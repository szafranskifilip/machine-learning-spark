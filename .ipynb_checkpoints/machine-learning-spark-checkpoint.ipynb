{
 "cells": [
  {
   "cell_type": "markdown",
   "id": "b48c6139-64e7-495f-8a48-a389456e1199",
   "metadata": {},
   "source": [
    "Objectives\n",
    "\n",
    "- Load and manipulate data using Spark DataFrames\n",
    "- Create a Spark ML pipeline that transforms data and runs over a grid of hyperparameters"
   ]
  },
  {
   "cell_type": "markdown",
   "id": "9902b422-059a-4dcb-a02a-5fc0df7bc3aa",
   "metadata": {},
   "source": [
    "### 1. Initial Data Exploration"
   ]
  },
  {
   "cell_type": "code",
   "execution_count": 1,
   "id": "72c243ae-02d1-403a-b377-0e41ddc03994",
   "metadata": {},
   "outputs": [],
   "source": [
    "# import necessary libraries\n",
    "from pyspark.sql import SparkSession\n",
    "# initialize Spark Session\n",
    "spark = SparkSession.builder.master('local').getOrCreate()\n",
    "\n",
    "# read in csv to a spark dataframe\n",
    "spark_df = spark.read.csv('credit_card_default.csv', header='true', inferSchema='true')"
   ]
  },
  {
   "cell_type": "code",
   "execution_count": 4,
   "id": "a9f0f912-da6d-4c34-842f-b04a9de53919",
   "metadata": {},
   "outputs": [
    {
     "data": {
      "text/plain": [
       "[Row(ID=2, LIMIT_BAL=120000.0, SEX='Female', EDUCATION='College', MARRIAGE='Single', AGE=26, PAY_0=-1, PAY_2=2, PAY_3=0, PAY_4=0, PAY_5=0, PAY_6=2, BILL_AMT1=2682.0, BILL_AMT2=1725.0, BILL_AMT3=2682.0, BILL_AMT4=3272.0, BILL_AMT5=3455.0, BILL_AMT6=3261.0, PAY_AMT1=0.0, PAY_AMT2=1000.0, PAY_AMT3=1000.0, PAY_AMT4=1000.0, PAY_AMT5=0.0, PAY_AMT6=2000.0, default=1),\n",
       " Row(ID=3, LIMIT_BAL=90000.0, SEX='Female', EDUCATION='College', MARRIAGE='Single', AGE=34, PAY_0=0, PAY_2=0, PAY_3=0, PAY_4=0, PAY_5=0, PAY_6=0, BILL_AMT1=29239.0, BILL_AMT2=14027.0, BILL_AMT3=13559.0, BILL_AMT4=14331.0, BILL_AMT5=14948.0, BILL_AMT6=15549.0, PAY_AMT1=1518.0, PAY_AMT2=1500.0, PAY_AMT3=1000.0, PAY_AMT4=1000.0, PAY_AMT5=1000.0, PAY_AMT6=5000.0, default=0),\n",
       " Row(ID=4, LIMIT_BAL=50000.0, SEX='Female', EDUCATION='College', MARRIAGE='Married', AGE=37, PAY_0=0, PAY_2=0, PAY_3=0, PAY_4=0, PAY_5=0, PAY_6=0, BILL_AMT1=46990.0, BILL_AMT2=48233.0, BILL_AMT3=49291.0, BILL_AMT4=28314.0, BILL_AMT5=28959.0, BILL_AMT6=29547.0, PAY_AMT1=2000.0, PAY_AMT2=2019.0, PAY_AMT3=1200.0, PAY_AMT4=1100.0, PAY_AMT5=1069.0, PAY_AMT6=1000.0, default=0),\n",
       " Row(ID=5, LIMIT_BAL=50000.0, SEX='Male', EDUCATION='College', MARRIAGE='Married', AGE=57, PAY_0=-1, PAY_2=0, PAY_3=-1, PAY_4=0, PAY_5=0, PAY_6=0, BILL_AMT1=8617.0, BILL_AMT2=5670.0, BILL_AMT3=35835.0, BILL_AMT4=20940.0, BILL_AMT5=19146.0, BILL_AMT6=19131.0, PAY_AMT1=2000.0, PAY_AMT2=36681.0, PAY_AMT3=10000.0, PAY_AMT4=9000.0, PAY_AMT5=689.0, PAY_AMT6=679.0, default=0),\n",
       " Row(ID=6, LIMIT_BAL=50000.0, SEX='Male', EDUCATION='Graduate', MARRIAGE='Single', AGE=37, PAY_0=0, PAY_2=0, PAY_3=0, PAY_4=0, PAY_5=0, PAY_6=0, BILL_AMT1=64400.0, BILL_AMT2=57069.0, BILL_AMT3=57608.0, BILL_AMT4=19394.0, BILL_AMT5=19619.0, BILL_AMT6=20024.0, PAY_AMT1=2500.0, PAY_AMT2=1815.0, PAY_AMT3=657.0, PAY_AMT4=1000.0, PAY_AMT5=1000.0, PAY_AMT6=800.0, default=0)]"
      ]
     },
     "execution_count": 4,
     "metadata": {},
     "output_type": "execute_result"
    }
   ],
   "source": [
    "# Display the first 5 records\n",
    "spark_df.head(5)"
   ]
  },
  {
   "cell_type": "code",
   "execution_count": 7,
   "id": "c7a3180c-f9a7-4bb9-8c74-cb40bc6aba00",
   "metadata": {},
   "outputs": [
    {
     "name": "stdout",
     "output_type": "stream",
     "text": [
      "root\n",
      " |-- ID: integer (nullable = true)\n",
      " |-- LIMIT_BAL: double (nullable = true)\n",
      " |-- SEX: string (nullable = true)\n",
      " |-- EDUCATION: string (nullable = true)\n",
      " |-- MARRIAGE: string (nullable = true)\n",
      " |-- AGE: integer (nullable = true)\n",
      " |-- PAY_0: integer (nullable = true)\n",
      " |-- PAY_2: integer (nullable = true)\n",
      " |-- PAY_3: integer (nullable = true)\n",
      " |-- PAY_4: integer (nullable = true)\n",
      " |-- PAY_5: integer (nullable = true)\n",
      " |-- PAY_6: integer (nullable = true)\n",
      " |-- BILL_AMT1: double (nullable = true)\n",
      " |-- BILL_AMT2: double (nullable = true)\n",
      " |-- BILL_AMT3: double (nullable = true)\n",
      " |-- BILL_AMT4: double (nullable = true)\n",
      " |-- BILL_AMT5: double (nullable = true)\n",
      " |-- BILL_AMT6: double (nullable = true)\n",
      " |-- PAY_AMT1: double (nullable = true)\n",
      " |-- PAY_AMT2: double (nullable = true)\n",
      " |-- PAY_AMT3: double (nullable = true)\n",
      " |-- PAY_AMT4: double (nullable = true)\n",
      " |-- PAY_AMT5: double (nullable = true)\n",
      " |-- PAY_AMT6: double (nullable = true)\n",
      " |-- default: integer (nullable = true)\n",
      "\n"
     ]
    }
   ],
   "source": [
    "# Print out the schema\n",
    "spark_df.printSchema()"
   ]
  },
  {
   "cell_type": "code",
   "execution_count": 10,
   "id": "b400508a-4b8c-40a2-90f8-5a0f13a3926a",
   "metadata": {},
   "outputs": [
    {
     "data": {
      "text/plain": [
       "[('ID', 'int'),\n",
       " ('LIMIT_BAL', 'double'),\n",
       " ('SEX', 'string'),\n",
       " ('EDUCATION', 'string'),\n",
       " ('MARRIAGE', 'string'),\n",
       " ('AGE', 'int'),\n",
       " ('PAY_0', 'int'),\n",
       " ('PAY_2', 'int'),\n",
       " ('PAY_3', 'int'),\n",
       " ('PAY_4', 'int'),\n",
       " ('PAY_5', 'int'),\n",
       " ('PAY_6', 'int'),\n",
       " ('BILL_AMT1', 'double'),\n",
       " ('BILL_AMT2', 'double'),\n",
       " ('BILL_AMT3', 'double'),\n",
       " ('BILL_AMT4', 'double'),\n",
       " ('BILL_AMT5', 'double'),\n",
       " ('BILL_AMT6', 'double'),\n",
       " ('PAY_AMT1', 'double'),\n",
       " ('PAY_AMT2', 'double'),\n",
       " ('PAY_AMT3', 'double'),\n",
       " ('PAY_AMT4', 'double'),\n",
       " ('PAY_AMT5', 'double'),\n",
       " ('PAY_AMT6', 'double'),\n",
       " ('default', 'int')]"
      ]
     },
     "execution_count": 10,
     "metadata": {},
     "output_type": "execute_result"
    }
   ],
   "source": [
    "spark_df.dtypes"
   ]
  },
  {
   "cell_type": "code",
   "execution_count": 13,
   "id": "324b311e-bb35-472e-a1cd-dbec595bb30e",
   "metadata": {},
   "outputs": [
    {
     "name": "stdout",
     "output_type": "stream",
     "text": [
      "+-----------+\n",
      "|  EDUCATION|\n",
      "+-----------+\n",
      "|    College|\n",
      "|    College|\n",
      "|    College|\n",
      "|    College|\n",
      "|   Graduate|\n",
      "|   Graduate|\n",
      "|    College|\n",
      "|High School|\n",
      "|High School|\n",
      "|High School|\n",
      "|   Graduate|\n",
      "|    College|\n",
      "|    College|\n",
      "|   Graduate|\n",
      "|High School|\n",
      "|   Graduate|\n",
      "|   Graduate|\n",
      "|   Graduate|\n",
      "|   Graduate|\n",
      "|High School|\n",
      "+-----------+\n",
      "only showing top 20 rows\n",
      "\n"
     ]
    }
   ],
   "source": [
    " spark_df.select('EDUCATION').show()"
   ]
  },
  {
   "cell_type": "markdown",
   "id": "11949235-9f8d-4fb9-ac5d-3c4d462f0834",
   "metadata": {},
   "source": [
    "It looks like we have three non-numeric features. For each non-numeric (string) feature, select and show all distinct categories."
   ]
  },
  {
   "cell_type": "code",
   "execution_count": 8,
   "id": "878daa86-54ca-4af1-b8b6-4603b21a2338",
   "metadata": {},
   "outputs": [
    {
     "name": "stdout",
     "output_type": "stream",
     "text": [
      "+------+\n",
      "|   SEX|\n",
      "+------+\n",
      "|Female|\n",
      "|  Male|\n",
      "+------+\n",
      "\n",
      "+-----------+\n",
      "|  EDUCATION|\n",
      "+-----------+\n",
      "|High School|\n",
      "|          0|\n",
      "|          5|\n",
      "|          6|\n",
      "|      Other|\n",
      "|   Graduate|\n",
      "|    College|\n",
      "+-----------+\n",
      "\n",
      "+--------+\n",
      "|MARRIAGE|\n",
      "+--------+\n",
      "|       0|\n",
      "|   Other|\n",
      "| Married|\n",
      "|  Single|\n",
      "+--------+\n",
      "\n"
     ]
    }
   ],
   "source": [
    "# Select and show all distinct categories\n",
    "\n",
    "# Loop over all column dtypes and display information if\n",
    "# the dtype is 'string'\n",
    "# (Alternatively you could just list out the column names)\n",
    "for column, data_type in spark_df.dtypes:\n",
    "    if data_type == 'string':\n",
    "        # Select and show distinct values in that column\n",
    "        spark_df.select(column).distinct().show()"
   ]
  },
  {
   "cell_type": "markdown",
   "id": "18d17044-1f1f-4c09-a3f4-dcbbfbf538c7",
   "metadata": {},
   "source": [
    "To create a bar plot, you need to group by the category (.groupBy()) and then aggregate by the count in that category (.count()). That will result in a small DataFrame containing EDUCATION and count columns.\n",
    "\n",
    "Then the easiest way to create a bar plot is to call .toPandas() to make that small Spark SQL DataFrame into a pandas DataFrame, and call .plot() on the pandas DataFrame."
   ]
  },
  {
   "cell_type": "code",
   "execution_count": 14,
   "id": "2baa3dff-7dbc-4fa0-9352-e40601f19180",
   "metadata": {},
   "outputs": [
    {
     "name": "stdout",
     "output_type": "stream",
     "text": [
      "+-----------+-----+\n",
      "|  EDUCATION|count|\n",
      "+-----------+-----+\n",
      "|High School| 4917|\n",
      "|          0|   14|\n",
      "|          5|  280|\n",
      "|          6|   51|\n",
      "|      Other|  123|\n",
      "|   Graduate|10585|\n",
      "|    College|14029|\n",
      "+-----------+-----+\n",
      "\n"
     ]
    },
    {
     "data": {
      "image/png": "[encoded data removed]",
      "text/plain": [
       "<Figure size 640x480 with 1 Axes>"
      ]
     },
     "metadata": {},
     "output_type": "display_data"
    }
   ],
   "source": [
    "# Create bar plot of EDUCATION\n",
    "# First, aggregate data\n",
    "education_cats = spark_df.groupBy('EDUCATION').count()\n",
    "education_cats.show()\n",
    "# Then plot data\n",
    "education_cats.toPandas().plot(x=\"EDUCATION\", y=\"count\", kind=\"bar\", rot=0);"
   ]
  },
  {
   "cell_type": "code",
   "execution_count": 19,
   "id": "3c4bd925-6e41-4c46-9944-ebdbc15e3324",
   "metadata": {},
   "outputs": [
    {
     "name": "stdout",
     "output_type": "stream",
     "text": [
      "+--------+-----+\n",
      "|MARRIAGE|count|\n",
      "+--------+-----+\n",
      "|       0|   54|\n",
      "|   Other|  323|\n",
      "| Married|13658|\n",
      "|  Single|15964|\n",
      "+--------+-----+\n",
      "\n"
     ]
    },
    {
     "data": {
      "image/png": "[encoded data removed]",
      "text/plain": [
       "<Figure size 640x480 with 1 Axes>"
      ]
     },
     "metadata": {},
     "output_type": "display_data"
    }
   ],
   "source": [
    "# Create bar plot of EDUCATION\n",
    "# First, aggregate data\n",
    "marriage_cats = spark_df.groupBy('MARRIAGE').count()\n",
    "marriage_cats.show()\n",
    "# Then plot data\n",
    "marriage_cats.toPandas().plot(x=\"MARRIAGE\", y=\"count\", kind=\"bar\", rot=0);"
   ]
  },
  {
   "cell_type": "markdown",
   "id": "c62c8674-36d3-478b-9c02-fd2b50600547",
   "metadata": {},
   "source": [
    "### 2. Binning"
   ]
  },
  {
   "cell_type": "markdown",
   "id": "d41ca078-c61f-48c6-a705-90c695ce7c16",
   "metadata": {},
   "source": [
    "It looks like there are barely any records in the 0, 5, and 6 categories. Let's bin (combine) those with the current Other records into a single catch-all Other category for both EDUCATION and MARRIAGE.\n",
    "\n",
    "The approach we'll use is similar to the CASE WHEN technique in SQL. If this were a SQL query, it would look something like this:"
   ]
  },
  {
   "cell_type": "code",
   "execution_count": 25,
   "id": "8fbb9ac9-69e0-4461-b76d-8e14d0bbbb5c",
   "metadata": {},
   "outputs": [],
   "source": [
    "# SELECT CASE\n",
    "#        WHEN EDUCATION = '0' THEN 'Other'\n",
    "#        WHEN EDUCATION = '5' THEN 'Other'\n",
    "#        WHEN EDUCATION = '6' THEN 'Other'\n",
    "#        ELSE EDUCATION\n",
    "#        END AS EDUCATION\n",
    "#   FROM credit_card_default; "
   ]
  },
  {
   "cell_type": "code",
   "execution_count": 29,
   "id": "6314583d-fa06-4ebf-876d-c7bd260002e5",
   "metadata": {},
   "outputs": [],
   "source": [
    "spark_df.createOrReplaceTempView(\"credit_card_default\")"
   ]
  },
  {
   "cell_type": "code",
   "execution_count": 41,
   "id": "84427534-c469-4587-b898-b891640efe9b",
   "metadata": {},
   "outputs": [
    {
     "name": "stdout",
     "output_type": "stream",
     "text": [
      "+-----------+\n",
      "|  EDUCATION|\n",
      "+-----------+\n",
      "|High School|\n",
      "|      Other|\n",
      "|   Graduate|\n",
      "|    College|\n",
      "+-----------+\n",
      "\n"
     ]
    }
   ],
   "source": [
    "# Write your SQL query\n",
    "sql_query = \"\"\"\n",
    "    SELECT DISTINCT CASE\n",
    "       WHEN EDUCATION = '0' THEN 'Other'\n",
    "       WHEN EDUCATION = '5' THEN 'Other'\n",
    "       WHEN EDUCATION = '6' THEN 'Other'\n",
    "       ELSE EDUCATION\n",
    "       END AS EDUCATION\n",
    "  FROM credit_card_default; \n",
    "\"\"\"\n",
    "\n",
    "# Execute the SQL query and get the result as a DataFrame\n",
    "result_df = spark.sql(sql_query)\n",
    "\n",
    "# Show the result\n",
    "result_df.collect()\n",
    "result_df.show(5)\n"
   ]
  },
  {
   "cell_type": "markdown",
   "id": "a46bae3a-6204-489f-87ae-998902cd7d67",
   "metadata": {},
   "source": [
    "With Spark SQL DataFrames, this is achieved using .withColumn() in conjunction with .when() and .otherwise()."
   ]
  },
  {
   "cell_type": "code",
   "execution_count": 39,
   "id": "5be99d36-4d5d-4238-8a30-9cbe8b1596ce",
   "metadata": {},
   "outputs": [
    {
     "name": "stdout",
     "output_type": "stream",
     "text": [
      "+-----------+\n",
      "|  EDUCATION|\n",
      "+-----------+\n",
      "|High School|\n",
      "|      Other|\n",
      "|   Graduate|\n",
      "|    College|\n",
      "+-----------+\n",
      "\n",
      "+--------+\n",
      "|MARRIAGE|\n",
      "+--------+\n",
      "|   Other|\n",
      "| Married|\n",
      "|  Single|\n",
      "+--------+\n",
      "\n"
     ]
    }
   ],
   "source": [
    "from pyspark.sql import functions as F\n",
    "# Bin EDUCATION categories\n",
    "df_education_binned = spark_df.withColumn('EDUCATION',\n",
    "                                          F.when(spark_df['EDUCATION'] == '0', 'Other')\\\n",
    "                                          .when(spark_df['EDUCATION'] == '5', 'Other')\\\n",
    "                                          .when(spark_df['EDUCATION'] == '6', 'Other')\\\n",
    "                                          .otherwise(spark_df['EDUCATION'])\n",
    "                                         )\n",
    "# Bin MARRIAGE categories\n",
    "df_all_binned = df_education_binned.withColumn('MARRIAGE',\n",
    "                                               F.when(df_education_binned['MARRIAGE'] == '0', 'Other')\\\n",
    "                                               .otherwise(df_education_binned['MARRIAGE'])\n",
    "                                              )\n",
    "\n",
    "# Select and show all distinct categories for EDUCATION and MARRIGE again\n",
    "df_all_binned.select('EDUCATION').distinct().show()\n",
    "df_all_binned.select('MARRIAGE').distinct().show()"
   ]
  },
  {
   "cell_type": "code",
   "execution_count": 42,
   "id": "0aadbdd3-9e9a-4661-a813-9a37904a4af0",
   "metadata": {},
   "outputs": [
    {
     "data": {
      "image/png": "[encoded data removed]",
      "text/plain": [
       "<Figure size 640x480 with 1 Axes>"
      ]
     },
     "metadata": {},
     "output_type": "display_data"
    }
   ],
   "source": [
    "# Plot EDUCATION\n",
    "df_all_binned.groupBy('EDUCATION')\\\n",
    "             .count()\\\n",
    "             .toPandas()\\\n",
    "             .plot(x=\"EDUCATION\", y=\"count\", kind=\"bar\", rot=0);"
   ]
  },
  {
   "cell_type": "code",
   "execution_count": 44,
   "id": "bbec6169-e028-4d15-97d9-393277e787e1",
   "metadata": {},
   "outputs": [
    {
     "data": {
      "image/png": "[encoded data removed]",
      "text/plain": [
       "<Figure size 640x480 with 1 Axes>"
      ]
     },
     "metadata": {},
     "output_type": "display_data"
    }
   ],
   "source": [
    "# Plot MARRIAGE\n",
    "df_all_binned.groupBy('MARRIAGE')\\\n",
    "             .count()\\\n",
    "             .toPandas()\\\n",
    "             .plot(x=\"MARRIAGE\", y=\"count\", kind='bar', rot=0);"
   ]
  },
  {
   "cell_type": "markdown",
   "id": "bba180dd-5a1b-45a2-be51-a86488131501",
   "metadata": {},
   "source": [
    "### 3. Class Balance Exploration"
   ]
  },
  {
   "cell_type": "markdown",
   "id": "e923ac58-ea14-4c7c-9483-599214e14f60",
   "metadata": {},
   "source": [
    "The overall distribution of class balance of the default column (the target for our upcoming machine learning process)"
   ]
  },
  {
   "cell_type": "code",
   "execution_count": 46,
   "id": "d03f0295-0c0e-4cc4-a35e-1ac92f0f7c7e",
   "metadata": {},
   "outputs": [
    {
     "name": "stdout",
     "output_type": "stream",
     "text": [
      "+-------+-----+\n",
      "|default|count|\n",
      "+-------+-----+\n",
      "|      0|23364|\n",
      "|      1| 6635|\n",
      "+-------+-----+\n",
      "\n"
     ]
    },
    {
     "data": {
      "image/png": "[encoded data removed]",
      "text/plain": [
       "<Figure size 640x480 with 1 Axes>"
      ]
     },
     "metadata": {},
     "output_type": "display_data"
    }
   ],
   "source": [
    "import matplotlib.pyplot as plt\n",
    "\n",
    "# Group and aggregate target data\n",
    "target_cats = df_all_binned.groupBy('default').count().orderBy('default')\n",
    "target_cats.show()\n",
    "\n",
    "# Plot target data\n",
    "fig, ax = plt.subplots()\n",
    "target_cats.toPandas().plot(x='default', y='count', kind='bar', ax=ax, rot=0)\n",
    "ax.set_xlabel(\"Target\")\n",
    "ax.set_xticklabels(['Does Not Default (0)','Defaults (1)']);"
   ]
  },
  {
   "cell_type": "markdown",
   "id": "3fb005eb-6d27-4bb9-880f-a6377c3784b3",
   "metadata": {},
   "source": [
    "Looks like we have a fairly imbalanced dataset.\n",
    "\n",
    "Let's also visualize the difference in default rate between males and females in this dataset. Group by both default and SEX and visualize the comparison."
   ]
  },
  {
   "cell_type": "code",
   "execution_count": 47,
   "id": "6cabcd32-1406-484a-b55a-7ef70f671f4a",
   "metadata": {},
   "outputs": [
    {
     "name": "stdout",
     "output_type": "stream",
     "text": [
      "+-------+------+-----+\n",
      "|default|   SEX|count|\n",
      "+-------+------+-----+\n",
      "|      0|Female|14349|\n",
      "|      0|  Male| 9015|\n",
      "|      1|Female| 3762|\n",
      "|      1|  Male| 2873|\n",
      "+-------+------+-----+\n",
      "\n"
     ]
    }
   ],
   "source": [
    "# Group and aggregate target and sex data\n",
    "target_by_sex = df_all_binned.groupBy(['default', 'SEX']).count().orderBy(['default', 'SEX'])\n",
    "target_by_sex.show()"
   ]
  },
  {
   "cell_type": "code",
   "execution_count": 48,
   "id": "73c2aa86-1763-40cd-a7e6-8274b671bf8d",
   "metadata": {},
   "outputs": [
    {
     "data": {
      "image/png": "[encoded data removed]",
      "text/plain": [
       "<Figure size 640x480 with 1 Axes>"
      ]
     },
     "metadata": {},
     "output_type": "display_data"
    }
   ],
   "source": [
    "# Plot target and sex data\n",
    "fig, ax = plt.subplots()\n",
    "\n",
    "target_by_sex.toPandas().pivot(index='SEX', columns='default')\\\n",
    "               .plot(kind='bar', ax=ax, rot=0)\n",
    "\n",
    "ax.legend(title=\"Count\", labels=['Does Not Default (0)','Defaults (1)']);"
   ]
  },
  {
   "cell_type": "markdown",
   "id": "3be5126a-d0e1-4b64-9984-186cb6f7c7ca",
   "metadata": {},
   "source": [
    "It looks like males have an ever so slightly higher default rate than females, and also represent a smaller proportion of the dataset."
   ]
  },
  {
   "cell_type": "markdown",
   "id": "2b46158a-73c5-4095-8dcb-a3a6802d3c26",
   "metadata": {},
   "source": [
    "### PySpark Machine Learning Model Pipeline"
   ]
  },
  {
   "cell_type": "markdown",
   "id": "2f571e0f-c5ff-4107-9c4d-fad856e55199",
   "metadata": {},
   "source": [
    "Fit the data to the PySpark machine learning model pipeline. There will be:"
   ]
  },
  {
   "cell_type": "markdown",
   "id": "f426128f-5ea1-4106-b968-b5a939a6ef3f",
   "metadata": {},
   "source": [
    "3 StringIndexers\n",
    "- One for each categorical feature\n",
    "\n",
    "A OneHotEncoder\n",
    "- To encode the newly indexed strings into categorical variables\n",
    "\n",
    "A VectorAssembler\n",
    "- To combine all features into one SparseVector\n",
    "\n",
    "All of these initialized estimators should be stored in a list called stages."
   ]
  },
  {
   "cell_type": "markdown",
   "id": "80ff7fbe-aa05-4c5d-9721-cf71b632c9a5",
   "metadata": {},
   "source": [
    "A label indexer that maps a string column of labels to an ML column of label indices. If the input column is numeric, we cast it to string and index the string values. The indices are in [0, numLabels). \n",
    "\n",
    "**By default, this is ordered by label frequencies so the most frequent label gets index 0. The ordering behavior is controlled by setting stringOrderType. Its default value is ‘frequencyDesc’.**"
   ]
  },
  {
   "cell_type": "code",
   "execution_count": 49,
   "id": "00027970-a2ed-403c-b7c5-4d6d3b71045d",
   "metadata": {},
   "outputs": [
    {
     "name": "stdout",
     "output_type": "stream",
     "text": [
      "Indexed string features: ['SEX_num', 'EDUCATION_num', 'MARRIAGE_num'] \n",
      "\n",
      "Numeric features: ['LIMIT_BAL', 'AGE', 'PAY_0', 'PAY_2', 'PAY_3', 'PAY_4', 'PAY_5', 'PAY_6', 'BILL_AMT1', 'BILL_AMT2', 'BILL_AMT3', 'BILL_AMT4', 'BILL_AMT5', 'BILL_AMT6', 'PAY_AMT1', 'PAY_AMT2', 'PAY_AMT3', 'PAY_AMT4', 'PAY_AMT5', 'PAY_AMT6'] \n",
      "\n",
      "Final features: ['LIMIT_BAL', 'AGE', 'PAY_0', 'PAY_2', 'PAY_3', 'PAY_4', 'PAY_5', 'PAY_6', 'BILL_AMT1', 'BILL_AMT2', 'BILL_AMT3', 'BILL_AMT4', 'BILL_AMT5', 'BILL_AMT6', 'PAY_AMT1', 'PAY_AMT2', 'PAY_AMT3', 'PAY_AMT4', 'PAY_AMT5', 'PAY_AMT6', 'SEX_num_ohe', 'EDUCATION_num_ohe', 'MARRIAGE_num_ohe'] \n",
      "\n",
      "Stages: [StringIndexer_bf5d5cc61678, StringIndexer_2dd8d2d21f32, StringIndexer_f1b7e70ce006, OneHotEncoder_8a6ff0ccb66f, VectorAssembler_9dcdd613bb80]\n"
     ]
    }
   ],
   "source": [
    "# Import the necessary classes\n",
    "from pyspark.ml.feature import StringIndexer, OneHotEncoder, VectorAssembler\n",
    "\n",
    "# Create the string indexers and determine the names of the numeric\n",
    "# and indexed columns\n",
    "# (You could write this out for all 3 but we'll use a loop approach)\n",
    "indexers = []\n",
    "indexed_features = []\n",
    "numeric_features = []\n",
    "\n",
    "for column, data_type in df_all_binned.dtypes:\n",
    "    if data_type == 'string':\n",
    "        # Create StringIndexers for columns containing strings\n",
    "        si = StringIndexer(inputCol=column, outputCol=column+'_num', handleInvalid='keep')\n",
    "        indexers.append(si)\n",
    "        # Save the name of the output column to sent to the OHE\n",
    "        indexed_features.append(si.getOutputCol())\n",
    "    elif column != \"ID\" and column != \"default\":\n",
    "        # Unless it's ID (an identifier rather than a genuine feature),\n",
    "        # append to list of numeric features if the dtype isn't string\n",
    "        numeric_features.append(column)\n",
    "\n",
    "print(\"Indexed string features:\", indexed_features, \"\\n\")\n",
    "print(\"Numeric features:\", numeric_features, \"\\n\")\n",
    "\n",
    "# Create a OneHotEncoder to encode the indexed string features\n",
    "ohe = OneHotEncoder(\n",
    "    inputCols=indexed_features,\n",
    "    outputCols=[col + '_ohe' for col in indexed_features],\n",
    "    dropLast=True\n",
    ")\n",
    "\n",
    "# Determine the names of the final list of features going into the model\n",
    "features = numeric_features + ohe.getOutputCols()\n",
    "print(\"Final features:\", features, \"\\n\")\n",
    "\n",
    "# Create a VectorAssembler to combine all features\n",
    "va = VectorAssembler(inputCols=features , outputCol='features')\n",
    "\n",
    "# Assemble a list of stages that includes all indexers, the one-hot\n",
    "# encoder, and the vector assembler\n",
    "stages = indexers + [ohe, va]\n",
    "print(\"Stages:\", stages)"
   ]
  },
  {
   "cell_type": "code",
   "execution_count": null,
   "id": "946b78d5-59ab-4753-bf01-29ee8ba8c87f",
   "metadata": {},
   "outputs": [],
   "source": []
  }
 ],
 "metadata": {
  "kernelspec": {
   "display_name": "Python 3 (ipykernel)",
   "language": "python",
   "name": "python3"
  },
  "language_info": {
   "codemirror_mode": {
    "name": "ipython",
    "version": 3
   },
   "file_extension": ".py",
   "mimetype": "text/x-python",
   "name": "python",
   "nbconvert_exporter": "python",
   "pygments_lexer": "ipython3",
   "version": "3.9.13"
  }
 },
 "nbformat": 4,
 "nbformat_minor": 5
}
